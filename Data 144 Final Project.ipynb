{
 "cells": [
  {
   "cell_type": "code",
   "execution_count": null,
   "metadata": {},
   "outputs": [],
   "source": [
    "# Team members: Danny Siu, Joseph Park, Timothy Cruz\n",
    "# Creating a compound word classifier model that distinguishes between \"real\" and \"corrupt\" compound words"
   ]
  },
  {
   "cell_type": "code",
   "execution_count": 1,
   "metadata": {},
   "outputs": [],
   "source": [
    "import numpy as np\n",
    "import pandas as pd\n",
    "import itertools\n",
    "import os, sys"
   ]
  },
  {
   "cell_type": "code",
   "execution_count": 2,
   "metadata": {},
   "outputs": [],
   "source": [
    "# os.chdir(\"/Users/josephpark/SCHOOL/Data 144/Final_Proj\")"
   ]
  },
  {
   "cell_type": "code",
   "execution_count": null,
   "metadata": {},
   "outputs": [],
   "source": []
  },
  {
   "cell_type": "code",
   "execution_count": 3,
   "metadata": {},
   "outputs": [],
   "source": [
    "ladec = pd.read_csv(\"LADECv1-2019.csv\", sep = ',')"
   ]
  },
  {
   "cell_type": "code",
   "execution_count": 4,
   "metadata": {},
   "outputs": [
    {
     "data": {
      "text/html": [
       "<div>\n",
       "<style scoped>\n",
       "    .dataframe tbody tr th:only-of-type {\n",
       "        vertical-align: middle;\n",
       "    }\n",
       "\n",
       "    .dataframe tbody tr th {\n",
       "        vertical-align: top;\n",
       "    }\n",
       "\n",
       "    .dataframe thead th {\n",
       "        text-align: right;\n",
       "    }\n",
       "</style>\n",
       "<table border=\"1\" class=\"dataframe\">\n",
       "  <thead>\n",
       "    <tr style=\"text-align: right;\">\n",
       "      <th></th>\n",
       "      <th>id_master</th>\n",
       "      <th>c1</th>\n",
       "      <th>c2</th>\n",
       "      <th>stim</th>\n",
       "      <th>obs</th>\n",
       "      <th>obsc1</th>\n",
       "      <th>obsc2</th>\n",
       "      <th>stimlen</th>\n",
       "      <th>c1len</th>\n",
       "      <th>c2len</th>\n",
       "      <th>...</th>\n",
       "      <th>Juhasz_tran</th>\n",
       "      <th>st_c1_mean</th>\n",
       "      <th>st_c2_mean</th>\n",
       "      <th>Zipfvalue</th>\n",
       "      <th>c1_SLlg10wf</th>\n",
       "      <th>c2_SLlg10wf</th>\n",
       "      <th>c1_BLPbncfrequency</th>\n",
       "      <th>c1_BLPbncfrequencymillion</th>\n",
       "      <th>c2_BLPbncfrequency</th>\n",
       "      <th>c2_BLPbncfrequencymillion</th>\n",
       "    </tr>\n",
       "  </thead>\n",
       "  <tbody>\n",
       "    <tr>\n",
       "      <th>0</th>\n",
       "      <td>3237</td>\n",
       "      <td>gad</td>\n",
       "      <td>about</td>\n",
       "      <td>gadabout</td>\n",
       "      <td>1</td>\n",
       "      <td>4</td>\n",
       "      <td>3</td>\n",
       "      <td>8</td>\n",
       "      <td>3</td>\n",
       "      <td>5</td>\n",
       "      <td>...</td>\n",
       "      <td>NaN</td>\n",
       "      <td>NaN</td>\n",
       "      <td>NaN</td>\n",
       "      <td>1.768955</td>\n",
       "      <td>1.4314</td>\n",
       "      <td>5.2677</td>\n",
       "      <td>28.0</td>\n",
       "      <td>0.280000</td>\n",
       "      <td>197116.0</td>\n",
       "      <td>1971.16</td>\n",
       "    </tr>\n",
       "    <tr>\n",
       "      <th>1</th>\n",
       "      <td>4592</td>\n",
       "      <td>knock</td>\n",
       "      <td>about</td>\n",
       "      <td>knockabout</td>\n",
       "      <td>1</td>\n",
       "      <td>3</td>\n",
       "      <td>4</td>\n",
       "      <td>10</td>\n",
       "      <td>5</td>\n",
       "      <td>5</td>\n",
       "      <td>...</td>\n",
       "      <td>NaN</td>\n",
       "      <td>NaN</td>\n",
       "      <td>NaN</td>\n",
       "      <td>1.592864</td>\n",
       "      <td>3.5185</td>\n",
       "      <td>5.2677</td>\n",
       "      <td>1975.0</td>\n",
       "      <td>19.750000</td>\n",
       "      <td>197116.0</td>\n",
       "      <td>1971.16</td>\n",
       "    </tr>\n",
       "    <tr>\n",
       "      <th>2</th>\n",
       "      <td>8231</td>\n",
       "      <td>turn</td>\n",
       "      <td>about</td>\n",
       "      <td>turnabout</td>\n",
       "      <td>1</td>\n",
       "      <td>19</td>\n",
       "      <td>7</td>\n",
       "      <td>9</td>\n",
       "      <td>4</td>\n",
       "      <td>5</td>\n",
       "      <td>...</td>\n",
       "      <td>NaN</td>\n",
       "      <td>4.452</td>\n",
       "      <td>2.813</td>\n",
       "      <td>2.333227</td>\n",
       "      <td>4.1940</td>\n",
       "      <td>5.2677</td>\n",
       "      <td>21026.0</td>\n",
       "      <td>210.259990</td>\n",
       "      <td>197116.0</td>\n",
       "      <td>1971.16</td>\n",
       "    </tr>\n",
       "    <tr>\n",
       "      <th>3</th>\n",
       "      <td>6139</td>\n",
       "      <td>race</td>\n",
       "      <td>about</td>\n",
       "      <td>raceabout</td>\n",
       "      <td>1</td>\n",
       "      <td>4</td>\n",
       "      <td>1</td>\n",
       "      <td>9</td>\n",
       "      <td>4</td>\n",
       "      <td>5</td>\n",
       "      <td>...</td>\n",
       "      <td>NaN</td>\n",
       "      <td>NaN</td>\n",
       "      <td>NaN</td>\n",
       "      <td>NaN</td>\n",
       "      <td>3.4994</td>\n",
       "      <td>5.2677</td>\n",
       "      <td>7959.0</td>\n",
       "      <td>79.589996</td>\n",
       "      <td>197116.0</td>\n",
       "      <td>1971.16</td>\n",
       "    </tr>\n",
       "    <tr>\n",
       "      <th>4</th>\n",
       "      <td>8331</td>\n",
       "      <td>walk</td>\n",
       "      <td>about</td>\n",
       "      <td>walkabout</td>\n",
       "      <td>1</td>\n",
       "      <td>2</td>\n",
       "      <td>5</td>\n",
       "      <td>9</td>\n",
       "      <td>4</td>\n",
       "      <td>5</td>\n",
       "      <td>...</td>\n",
       "      <td>NaN</td>\n",
       "      <td>4.594</td>\n",
       "      <td>2.733</td>\n",
       "      <td>2.246077</td>\n",
       "      <td>4.0418</td>\n",
       "      <td>5.2677</td>\n",
       "      <td>10441.0</td>\n",
       "      <td>104.410000</td>\n",
       "      <td>197116.0</td>\n",
       "      <td>1971.16</td>\n",
       "    </tr>\n",
       "  </tbody>\n",
       "</table>\n",
       "<p>5 rows × 84 columns</p>\n",
       "</div>"
      ],
      "text/plain": [
       "   id_master     c1     c2        stim  obs  obsc1  obsc2  stimlen  c1len  \\\n",
       "0       3237    gad  about    gadabout    1      4      3        8      3   \n",
       "1       4592  knock  about  knockabout    1      3      4       10      5   \n",
       "2       8231   turn  about   turnabout    1     19      7        9      4   \n",
       "3       6139   race  about   raceabout    1      4      1        9      4   \n",
       "4       8331   walk  about   walkabout    1      2      5        9      4   \n",
       "\n",
       "   c2len  ...  Juhasz_tran st_c1_mean  st_c2_mean  Zipfvalue  c1_SLlg10wf  \\\n",
       "0      5  ...          NaN        NaN         NaN   1.768955       1.4314   \n",
       "1      5  ...          NaN        NaN         NaN   1.592864       3.5185   \n",
       "2      5  ...          NaN      4.452       2.813   2.333227       4.1940   \n",
       "3      5  ...          NaN        NaN         NaN        NaN       3.4994   \n",
       "4      5  ...          NaN      4.594       2.733   2.246077       4.0418   \n",
       "\n",
       "   c2_SLlg10wf  c1_BLPbncfrequency  c1_BLPbncfrequencymillion  \\\n",
       "0       5.2677                28.0                   0.280000   \n",
       "1       5.2677              1975.0                  19.750000   \n",
       "2       5.2677             21026.0                 210.259990   \n",
       "3       5.2677              7959.0                  79.589996   \n",
       "4       5.2677             10441.0                 104.410000   \n",
       "\n",
       "   c2_BLPbncfrequency  c2_BLPbncfrequencymillion  \n",
       "0            197116.0                    1971.16  \n",
       "1            197116.0                    1971.16  \n",
       "2            197116.0                    1971.16  \n",
       "3            197116.0                    1971.16  \n",
       "4            197116.0                    1971.16  \n",
       "\n",
       "[5 rows x 84 columns]"
      ]
     },
     "execution_count": 4,
     "metadata": {},
     "output_type": "execute_result"
    }
   ],
   "source": [
    "ladec.head()"
   ]
  },
  {
   "cell_type": "code",
   "execution_count": 5,
   "metadata": {},
   "outputs": [
    {
     "data": {
      "text/plain": [
       "3660"
      ]
     },
     "execution_count": 5,
     "metadata": {},
     "output_type": "execute_result"
    }
   ],
   "source": [
    "ladec_df = ladec[[\"c1\", \"c2\", 'stim','isCommonstim', 'isCommonC1', 'isCommonC2']]\n",
    "len(ladec_df[ladec_df['isCommonstim'] == 1])"
   ]
  },
  {
   "cell_type": "code",
   "execution_count": 6,
   "metadata": {},
   "outputs": [
    {
     "data": {
      "text/plain": [
       "array(['id_master', 'c1', 'c2', 'stim', 'obs', 'obsc1', 'obsc2',\n",
       "       'stimlen', 'c1len', 'c2len', 'nparses', 'correctParse',\n",
       "       'ratingcmp', 'ratingC1', 'ratingC2', 'isPlural', 'nc1_cmp',\n",
       "       'nc2_cmp', 'nc1_cmpnoplural', 'nc2_cmpnoplural', 'sentiment_stim',\n",
       "       'sentiment_c1', 'sentiment_c2', 'sentimentprobpos_stim',\n",
       "       'sentimentprobpos_c1', 'sentimentprobpos_c2',\n",
       "       'sentimentprobneg_stim', 'sentimentprobneg_c1',\n",
       "       'sentimentprobneg_c2', 'sentimentratioposneg_stim',\n",
       "       'sentimentratioposneg_c1', 'sentimentratioposneg_c2',\n",
       "       'profanity_stim', 'profanity_c1', 'profanity_c2', 'isCommonstim',\n",
       "       'isCommonC1', 'isCommonC2', 'bg_boundary', 'bgJonesMewhort',\n",
       "       'bgSUBTLEX', 'bgFacebook', 'inSUBTLEX', 'inBLP', 'inELP',\n",
       "       'inJuhaszLaiWoodcock', 'c1_inELP', 'c1_inBrysbaert',\n",
       "       'c1_inWordnet', 'c1_inMMA', 'c2_inELP', 'c2_inBrysbaert',\n",
       "       'c2_inWordnet', 'c2_inMMA', 'LSAc1c2', 'LSAc1stim', 'LSAc2stim',\n",
       "       'stim_SLlg10wf', 'BLPbncfrequency', 'BLPbncfrequencymillion',\n",
       "       'BLPrt', 'elp_ld_rt', 'elp_naming_mean_rt', 'c1c2_snautCos',\n",
       "       'c1stim_snautCos', 'c2stim_snautCos', 'fbusfreq', 'fbukfreq',\n",
       "       'valence_stim', 'valence_c1', 'valence_c2', 'concreteness_stim',\n",
       "       'concreteness_c1', 'concreteness_c2', 'Juhasz_tran', 'st_c1_mean',\n",
       "       'st_c2_mean', 'Zipfvalue', 'c1_SLlg10wf', 'c2_SLlg10wf',\n",
       "       'c1_BLPbncfrequency', 'c1_BLPbncfrequencymillion',\n",
       "       'c2_BLPbncfrequency', 'c2_BLPbncfrequencymillion'], dtype=object)"
      ]
     },
     "execution_count": 6,
     "metadata": {},
     "output_type": "execute_result"
    }
   ],
   "source": [
    "ladec.columns.values"
   ]
  },
  {
   "cell_type": "markdown",
   "metadata": {},
   "source": [
    "**Creating dataframe of real compound words**"
   ]
  },
  {
   "cell_type": "code",
   "execution_count": 7,
   "metadata": {},
   "outputs": [],
   "source": [
    "# Created elp_ladec: dataframe of real compound words found in the ELP (English Lexicon Project)\n",
    "\n",
    "elp_ladec = ladec[ladec['inELP'] == 1][[\"c1\", \"c2\", 'stim','isCommonstim', \n",
    "#                                         'isCommonC1', 'isCommonC2'\n",
    "                                       ]]\n",
    "elp_ladec['is_real_stim'] = np.ones((len(elp_ladec),), dtype=int)"
   ]
  },
  {
   "cell_type": "code",
   "execution_count": 8,
   "metadata": {},
   "outputs": [
    {
     "data": {
      "text/html": [
       "<div>\n",
       "<style scoped>\n",
       "    .dataframe tbody tr th:only-of-type {\n",
       "        vertical-align: middle;\n",
       "    }\n",
       "\n",
       "    .dataframe tbody tr th {\n",
       "        vertical-align: top;\n",
       "    }\n",
       "\n",
       "    .dataframe thead th {\n",
       "        text-align: right;\n",
       "    }\n",
       "</style>\n",
       "<table border=\"1\" class=\"dataframe\">\n",
       "  <thead>\n",
       "    <tr style=\"text-align: right;\">\n",
       "      <th></th>\n",
       "      <th>c1</th>\n",
       "      <th>c2</th>\n",
       "      <th>stim</th>\n",
       "      <th>isCommonstim</th>\n",
       "      <th>is_real_stim</th>\n",
       "    </tr>\n",
       "  </thead>\n",
       "  <tbody>\n",
       "    <tr>\n",
       "      <th>2</th>\n",
       "      <td>turn</td>\n",
       "      <td>about</td>\n",
       "      <td>turnabout</td>\n",
       "      <td>1</td>\n",
       "      <td>1</td>\n",
       "    </tr>\n",
       "    <tr>\n",
       "      <th>4</th>\n",
       "      <td>walk</td>\n",
       "      <td>about</td>\n",
       "      <td>walkabout</td>\n",
       "      <td>1</td>\n",
       "      <td>1</td>\n",
       "    </tr>\n",
       "    <tr>\n",
       "      <th>5</th>\n",
       "      <td>run</td>\n",
       "      <td>about</td>\n",
       "      <td>runabout</td>\n",
       "      <td>1</td>\n",
       "      <td>1</td>\n",
       "    </tr>\n",
       "    <tr>\n",
       "      <th>6</th>\n",
       "      <td>round</td>\n",
       "      <td>about</td>\n",
       "      <td>roundabout</td>\n",
       "      <td>1</td>\n",
       "      <td>1</td>\n",
       "    </tr>\n",
       "    <tr>\n",
       "      <th>14</th>\n",
       "      <td>where</td>\n",
       "      <td>abouts</td>\n",
       "      <td>whereabouts</td>\n",
       "      <td>1</td>\n",
       "      <td>1</td>\n",
       "    </tr>\n",
       "  </tbody>\n",
       "</table>\n",
       "</div>"
      ],
      "text/plain": [
       "       c1      c2         stim  isCommonstim  is_real_stim\n",
       "2    turn   about    turnabout             1             1\n",
       "4    walk   about    walkabout             1             1\n",
       "5     run   about     runabout             1             1\n",
       "6   round   about   roundabout             1             1\n",
       "14  where  abouts  whereabouts             1             1"
      ]
     },
     "execution_count": 8,
     "metadata": {},
     "output_type": "execute_result"
    }
   ],
   "source": [
    "elp_ladec.head()  # our correct compound words"
   ]
  },
  {
   "cell_type": "code",
   "execution_count": 9,
   "metadata": {},
   "outputs": [
    {
     "data": {
      "text/plain": [
       "3149"
      ]
     },
     "execution_count": 9,
     "metadata": {},
     "output_type": "execute_result"
    }
   ],
   "source": [
    "len(elp_ladec)"
   ]
  },
  {
   "cell_type": "markdown",
   "metadata": {},
   "source": [
    "**Creating dataframe of \"corrupt\" compound words**"
   ]
  },
  {
   "cell_type": "code",
   "execution_count": 10,
   "metadata": {},
   "outputs": [
    {
     "name": "stdout",
     "output_type": "stream",
     "text": [
      "1168 1170\n"
     ]
    }
   ],
   "source": [
    "c1_uniq = np.unique(elp_ladec['c1'])\n",
    "c2_uniq = np.unique(elp_ladec['c2'])\n",
    "\n",
    "print(len(c1_uniq), len(c2_uniq))"
   ]
  },
  {
   "cell_type": "code",
   "execution_count": 11,
   "metadata": {},
   "outputs": [],
   "source": [
    "c1_short = c1_uniq[:5]\n",
    "c2_short = c2_uniq[:5]"
   ]
  },
  {
   "cell_type": "code",
   "execution_count": 12,
   "metadata": {},
   "outputs": [],
   "source": [
    "wrongWords = []\n",
    "c1_wrong = []\n",
    "c2_wrong = []\n",
    "for c1 in c1_uniq:\n",
    "    c2 = np.random.choice(c2_uniq, 1)[0]\n",
    "    cpd_word = ''.join((c1, c2))\n",
    "    wrongWords.append(cpd_word)\n",
    "    c1_wrong.append(c1)\n",
    "    c2_wrong.append(c2)\n",
    "    c2 = np.random.choice(c2_uniq, 1)[0]\n",
    "    cpd_word = ''.join((c1, c2))\n",
    "    wrongWords.append(cpd_word)\n",
    "    c1_wrong.append(c1)\n",
    "    c2_wrong.append(c2)\n",
    "for c2 in c2_uniq:\n",
    "    c1 = np.random.choice(c1_uniq, 1)[0]\n",
    "    cpd_word = ''.join((c1, c2))\n",
    "    wrongWords.append(cpd_word)\n",
    "    c1_wrong.append(c1)\n",
    "    c2_wrong.append(c2)\n",
    "    c1 = np.random.choice(c1_uniq, 1)[0]\n",
    "    cpd_word = ''.join((c1, c2))\n",
    "    wrongWords.append(cpd_word)\n",
    "    c1_wrong.append(c1)\n",
    "    c2_wrong.append(c2)\n"
   ]
  },
  {
   "cell_type": "code",
   "execution_count": 13,
   "metadata": {},
   "outputs": [
    {
     "data": {
      "text/plain": [
       "(4676, 4676, 4676)"
      ]
     },
     "execution_count": 13,
     "metadata": {},
     "output_type": "execute_result"
    }
   ],
   "source": [
    "len(wrongWords), len(c1_wrong), len(c2_wrong)"
   ]
  },
  {
   "cell_type": "code",
   "execution_count": 14,
   "metadata": {},
   "outputs": [],
   "source": [
    "wrong_df = pd.DataFrame()\n",
    "wrong_df['c1'] = c1_wrong\n",
    "wrong_df['c2'] = c2_wrong\n",
    "wrong_df['stim'] = wrongWords\n",
    "wrong_df['isCommonstim'] = np.zeros((len(wrong_df),), dtype=int)\n",
    "wrong_df['is_real_stim'] = np.zeros((len(wrong_df),), dtype=int)"
   ]
  },
  {
   "cell_type": "code",
   "execution_count": 15,
   "metadata": {},
   "outputs": [
    {
     "data": {
      "text/html": [
       "<div>\n",
       "<style scoped>\n",
       "    .dataframe tbody tr th:only-of-type {\n",
       "        vertical-align: middle;\n",
       "    }\n",
       "\n",
       "    .dataframe tbody tr th {\n",
       "        vertical-align: top;\n",
       "    }\n",
       "\n",
       "    .dataframe thead th {\n",
       "        text-align: right;\n",
       "    }\n",
       "</style>\n",
       "<table border=\"1\" class=\"dataframe\">\n",
       "  <thead>\n",
       "    <tr style=\"text-align: right;\">\n",
       "      <th></th>\n",
       "      <th>c1</th>\n",
       "      <th>c2</th>\n",
       "      <th>stim</th>\n",
       "      <th>isCommonstim</th>\n",
       "      <th>is_real_stim</th>\n",
       "    </tr>\n",
       "  </thead>\n",
       "  <tbody>\n",
       "    <tr>\n",
       "      <th>0</th>\n",
       "      <td>after</td>\n",
       "      <td>tack</td>\n",
       "      <td>aftertack</td>\n",
       "      <td>0</td>\n",
       "      <td>0</td>\n",
       "    </tr>\n",
       "    <tr>\n",
       "      <th>1</th>\n",
       "      <td>after</td>\n",
       "      <td>wear</td>\n",
       "      <td>afterwear</td>\n",
       "      <td>0</td>\n",
       "      <td>0</td>\n",
       "    </tr>\n",
       "    <tr>\n",
       "      <th>2</th>\n",
       "      <td>air</td>\n",
       "      <td>comer</td>\n",
       "      <td>aircomer</td>\n",
       "      <td>0</td>\n",
       "      <td>0</td>\n",
       "    </tr>\n",
       "    <tr>\n",
       "      <th>3</th>\n",
       "      <td>air</td>\n",
       "      <td>pond</td>\n",
       "      <td>airpond</td>\n",
       "      <td>0</td>\n",
       "      <td>0</td>\n",
       "    </tr>\n",
       "    <tr>\n",
       "      <th>4</th>\n",
       "      <td>airs</td>\n",
       "      <td>helves</td>\n",
       "      <td>airshelves</td>\n",
       "      <td>0</td>\n",
       "      <td>0</td>\n",
       "    </tr>\n",
       "  </tbody>\n",
       "</table>\n",
       "</div>"
      ],
      "text/plain": [
       "      c1      c2        stim  isCommonstim  is_real_stim\n",
       "0  after    tack   aftertack             0             0\n",
       "1  after    wear   afterwear             0             0\n",
       "2    air   comer    aircomer             0             0\n",
       "3    air    pond     airpond             0             0\n",
       "4   airs  helves  airshelves             0             0"
      ]
     },
     "execution_count": 15,
     "metadata": {},
     "output_type": "execute_result"
    }
   ],
   "source": [
    "wrong_df.head()"
   ]
  },
  {
   "cell_type": "code",
   "execution_count": 16,
   "metadata": {},
   "outputs": [
    {
     "data": {
      "text/plain": [
       "(4676, 4661)"
      ]
     },
     "execution_count": 16,
     "metadata": {},
     "output_type": "execute_result"
    }
   ],
   "source": [
    "wrong_df[\"real_word_check\"] = wrong_df.stim.isin(elp_ladec.stim)\n",
    "# wrong_df.head()\n",
    "new_wrong_df = wrong_df[wrong_df[\"real_word_check\"] == False]\n",
    "len(wrong_df), len(new_wrong_df)"
   ]
  },
  {
   "cell_type": "code",
   "execution_count": 17,
   "metadata": {},
   "outputs": [],
   "source": [
    "new_wrong_df = new_wrong_df.drop(['real_word_check'], axis=1)"
   ]
  },
  {
   "cell_type": "code",
   "execution_count": 18,
   "metadata": {},
   "outputs": [
    {
     "data": {
      "text/html": [
       "<div>\n",
       "<style scoped>\n",
       "    .dataframe tbody tr th:only-of-type {\n",
       "        vertical-align: middle;\n",
       "    }\n",
       "\n",
       "    .dataframe tbody tr th {\n",
       "        vertical-align: top;\n",
       "    }\n",
       "\n",
       "    .dataframe thead th {\n",
       "        text-align: right;\n",
       "    }\n",
       "</style>\n",
       "<table border=\"1\" class=\"dataframe\">\n",
       "  <thead>\n",
       "    <tr style=\"text-align: right;\">\n",
       "      <th></th>\n",
       "      <th>c1</th>\n",
       "      <th>c2</th>\n",
       "      <th>stim</th>\n",
       "      <th>isCommonstim</th>\n",
       "      <th>is_real_stim</th>\n",
       "    </tr>\n",
       "  </thead>\n",
       "  <tbody>\n",
       "    <tr>\n",
       "      <th>0</th>\n",
       "      <td>after</td>\n",
       "      <td>tack</td>\n",
       "      <td>aftertack</td>\n",
       "      <td>0</td>\n",
       "      <td>0</td>\n",
       "    </tr>\n",
       "    <tr>\n",
       "      <th>1</th>\n",
       "      <td>after</td>\n",
       "      <td>wear</td>\n",
       "      <td>afterwear</td>\n",
       "      <td>0</td>\n",
       "      <td>0</td>\n",
       "    </tr>\n",
       "    <tr>\n",
       "      <th>2</th>\n",
       "      <td>air</td>\n",
       "      <td>comer</td>\n",
       "      <td>aircomer</td>\n",
       "      <td>0</td>\n",
       "      <td>0</td>\n",
       "    </tr>\n",
       "    <tr>\n",
       "      <th>3</th>\n",
       "      <td>air</td>\n",
       "      <td>pond</td>\n",
       "      <td>airpond</td>\n",
       "      <td>0</td>\n",
       "      <td>0</td>\n",
       "    </tr>\n",
       "    <tr>\n",
       "      <th>4</th>\n",
       "      <td>airs</td>\n",
       "      <td>helves</td>\n",
       "      <td>airshelves</td>\n",
       "      <td>0</td>\n",
       "      <td>0</td>\n",
       "    </tr>\n",
       "  </tbody>\n",
       "</table>\n",
       "</div>"
      ],
      "text/plain": [
       "      c1      c2        stim  isCommonstim  is_real_stim\n",
       "0  after    tack   aftertack             0             0\n",
       "1  after    wear   afterwear             0             0\n",
       "2    air   comer    aircomer             0             0\n",
       "3    air    pond     airpond             0             0\n",
       "4   airs  helves  airshelves             0             0"
      ]
     },
     "execution_count": 18,
     "metadata": {},
     "output_type": "execute_result"
    }
   ],
   "source": [
    "new_wrong_df.head()"
   ]
  },
  {
   "cell_type": "code",
   "execution_count": 19,
   "metadata": {},
   "outputs": [
    {
     "data": {
      "text/html": [
       "<div>\n",
       "<style scoped>\n",
       "    .dataframe tbody tr th:only-of-type {\n",
       "        vertical-align: middle;\n",
       "    }\n",
       "\n",
       "    .dataframe tbody tr th {\n",
       "        vertical-align: top;\n",
       "    }\n",
       "\n",
       "    .dataframe thead th {\n",
       "        text-align: right;\n",
       "    }\n",
       "</style>\n",
       "<table border=\"1\" class=\"dataframe\">\n",
       "  <thead>\n",
       "    <tr style=\"text-align: right;\">\n",
       "      <th></th>\n",
       "      <th>c1</th>\n",
       "      <th>c2</th>\n",
       "      <th>stim</th>\n",
       "      <th>isCommonstim</th>\n",
       "      <th>is_real_stim</th>\n",
       "    </tr>\n",
       "  </thead>\n",
       "  <tbody>\n",
       "    <tr>\n",
       "      <th>0</th>\n",
       "      <td>after</td>\n",
       "      <td>tack</td>\n",
       "      <td>aftertack</td>\n",
       "      <td>0</td>\n",
       "      <td>0</td>\n",
       "    </tr>\n",
       "    <tr>\n",
       "      <th>1</th>\n",
       "      <td>after</td>\n",
       "      <td>wear</td>\n",
       "      <td>afterwear</td>\n",
       "      <td>0</td>\n",
       "      <td>0</td>\n",
       "    </tr>\n",
       "    <tr>\n",
       "      <th>2</th>\n",
       "      <td>air</td>\n",
       "      <td>comer</td>\n",
       "      <td>aircomer</td>\n",
       "      <td>0</td>\n",
       "      <td>0</td>\n",
       "    </tr>\n",
       "    <tr>\n",
       "      <th>3</th>\n",
       "      <td>air</td>\n",
       "      <td>pond</td>\n",
       "      <td>airpond</td>\n",
       "      <td>0</td>\n",
       "      <td>0</td>\n",
       "    </tr>\n",
       "    <tr>\n",
       "      <th>4</th>\n",
       "      <td>airs</td>\n",
       "      <td>helves</td>\n",
       "      <td>airshelves</td>\n",
       "      <td>0</td>\n",
       "      <td>0</td>\n",
       "    </tr>\n",
       "  </tbody>\n",
       "</table>\n",
       "</div>"
      ],
      "text/plain": [
       "      c1      c2        stim  isCommonstim  is_real_stim\n",
       "0  after    tack   aftertack             0             0\n",
       "1  after    wear   afterwear             0             0\n",
       "2    air   comer    aircomer             0             0\n",
       "3    air    pond     airpond             0             0\n",
       "4   airs  helves  airshelves             0             0"
      ]
     },
     "execution_count": 19,
     "metadata": {},
     "output_type": "execute_result"
    }
   ],
   "source": [
    "df = pd.concat([new_wrong_df, elp_ladec])\n",
    "df.head()"
   ]
  },
  {
   "cell_type": "code",
   "execution_count": 20,
   "metadata": {},
   "outputs": [
    {
     "data": {
      "text/plain": [
       "(4661, 3149, 7810, 7810)"
      ]
     },
     "execution_count": 20,
     "metadata": {},
     "output_type": "execute_result"
    }
   ],
   "source": [
    "len(new_wrong_df), len(elp_ladec), len(df), len(new_wrong_df) + len(elp_ladec)"
   ]
  },
  {
   "cell_type": "code",
   "execution_count": 21,
   "metadata": {},
   "outputs": [],
   "source": [
    "df = df.drop(['stim'], axis=1)"
   ]
  },
  {
   "cell_type": "code",
   "execution_count": 22,
   "metadata": {},
   "outputs": [
    {
     "name": "stdout",
     "output_type": "stream",
     "text": [
      "After one hot encoding ......\n",
      "[[1. 0. 0. ... 0. 0. 0.]\n",
      " [1. 0. 0. ... 0. 0. 0.]\n",
      " [0. 1. 0. ... 0. 0. 0.]\n",
      " ...\n",
      " [0. 0. 0. ... 0. 0. 0.]\n",
      " [0. 0. 0. ... 0. 0. 0.]\n",
      " [0. 0. 0. ... 0. 0. 1.]]\n"
     ]
    }
   ],
   "source": [
    "# The first step in vectorizing our categorical values is to create a DictVectorizer() object and then \n",
    "# use fit_transform() and toarray() to get the values into a NumPy array.\n",
    "from sklearn.feature_extraction import DictVectorizer\n",
    "vec = DictVectorizer()\n",
    "\n",
    "# create a unique dictionary for both c1 and c2\n",
    "\n",
    "word_to_num = df[['c1']].to_dict('records')\n",
    "one_hot_words1 = vec.fit_transform(word_to_num).toarray()\n",
    "print(\"After one hot encoding ......\")\n",
    "print(one_hot_words1)"
   ]
  },
  {
   "cell_type": "code",
   "execution_count": 23,
   "metadata": {},
   "outputs": [
    {
     "name": "stdout",
     "output_type": "stream",
     "text": [
      "After one hot encoding ......\n",
      "[[0. 0. 0. ... 0. 0. 0.]\n",
      " [0. 0. 0. ... 0. 0. 0.]\n",
      " [0. 0. 0. ... 0. 0. 0.]\n",
      " ...\n",
      " [0. 0. 0. ... 0. 1. 0.]\n",
      " [0. 0. 0. ... 0. 1. 0.]\n",
      " [0. 0. 0. ... 0. 0. 1.]]\n"
     ]
    }
   ],
   "source": [
    "word_to_num = df[['c2']].to_dict('records')\n",
    "# print(type(word_to_num))\n",
    "one_hot_words2 = vec.fit_transform(word_to_num).toarray()\n",
    "print(\"After one hot encoding ......\")\n",
    "print(one_hot_words2)"
   ]
  },
  {
   "cell_type": "code",
   "execution_count": 24,
   "metadata": {},
   "outputs": [
    {
     "data": {
      "text/plain": [
       "((7810, 1168), (7810, 1170))"
      ]
     },
     "execution_count": 24,
     "metadata": {},
     "output_type": "execute_result"
    }
   ],
   "source": [
    "one_hot_words1.shape, one_hot_words2.shape"
   ]
  },
  {
   "cell_type": "code",
   "execution_count": 25,
   "metadata": {},
   "outputs": [],
   "source": [
    "c1_labels = [''.join((e,'_c1')) for e in c1_uniq]\n",
    "c2_labels = [''.join((e,'_c2')) for e in c2_uniq]\n",
    "\n",
    "df_oh_1 = pd.DataFrame(one_hot_words1, columns = c1_labels)\n",
    "df_oh_2 = pd.DataFrame(one_hot_words2, columns = c2_labels)\n"
   ]
  },
  {
   "cell_type": "code",
   "execution_count": 26,
   "metadata": {},
   "outputs": [
    {
     "data": {
      "text/html": [
       "<div>\n",
       "<style scoped>\n",
       "    .dataframe tbody tr th:only-of-type {\n",
       "        vertical-align: middle;\n",
       "    }\n",
       "\n",
       "    .dataframe tbody tr th {\n",
       "        vertical-align: top;\n",
       "    }\n",
       "\n",
       "    .dataframe thead th {\n",
       "        text-align: right;\n",
       "    }\n",
       "</style>\n",
       "<table border=\"1\" class=\"dataframe\">\n",
       "  <thead>\n",
       "    <tr style=\"text-align: right;\">\n",
       "      <th></th>\n",
       "      <th>after_c1</th>\n",
       "      <th>air_c1</th>\n",
       "      <th>airs_c1</th>\n",
       "      <th>alder_c1</th>\n",
       "      <th>ale_c1</th>\n",
       "      <th>all_c1</th>\n",
       "      <th>alley_c1</th>\n",
       "      <th>altar_c1</th>\n",
       "      <th>anchor_c1</th>\n",
       "      <th>ant_c1</th>\n",
       "      <th>...</th>\n",
       "      <th>working_c1</th>\n",
       "      <th>works_c1</th>\n",
       "      <th>worm_c1</th>\n",
       "      <th>wrist_c1</th>\n",
       "      <th>wrong_c1</th>\n",
       "      <th>yachts_c1</th>\n",
       "      <th>yard_c1</th>\n",
       "      <th>yards_c1</th>\n",
       "      <th>year_c1</th>\n",
       "      <th>zig_c1</th>\n",
       "    </tr>\n",
       "  </thead>\n",
       "  <tbody>\n",
       "    <tr>\n",
       "      <th>7805</th>\n",
       "      <td>0.0</td>\n",
       "      <td>0.0</td>\n",
       "      <td>0.0</td>\n",
       "      <td>0.0</td>\n",
       "      <td>0.0</td>\n",
       "      <td>0.0</td>\n",
       "      <td>0.0</td>\n",
       "      <td>0.0</td>\n",
       "      <td>0.0</td>\n",
       "      <td>0.0</td>\n",
       "      <td>...</td>\n",
       "      <td>0.0</td>\n",
       "      <td>0.0</td>\n",
       "      <td>0.0</td>\n",
       "      <td>0.0</td>\n",
       "      <td>0.0</td>\n",
       "      <td>0.0</td>\n",
       "      <td>0.0</td>\n",
       "      <td>0.0</td>\n",
       "      <td>0.0</td>\n",
       "      <td>0.0</td>\n",
       "    </tr>\n",
       "    <tr>\n",
       "      <th>7806</th>\n",
       "      <td>0.0</td>\n",
       "      <td>0.0</td>\n",
       "      <td>0.0</td>\n",
       "      <td>0.0</td>\n",
       "      <td>0.0</td>\n",
       "      <td>0.0</td>\n",
       "      <td>0.0</td>\n",
       "      <td>0.0</td>\n",
       "      <td>0.0</td>\n",
       "      <td>0.0</td>\n",
       "      <td>...</td>\n",
       "      <td>0.0</td>\n",
       "      <td>0.0</td>\n",
       "      <td>0.0</td>\n",
       "      <td>0.0</td>\n",
       "      <td>0.0</td>\n",
       "      <td>0.0</td>\n",
       "      <td>0.0</td>\n",
       "      <td>0.0</td>\n",
       "      <td>0.0</td>\n",
       "      <td>0.0</td>\n",
       "    </tr>\n",
       "    <tr>\n",
       "      <th>7807</th>\n",
       "      <td>0.0</td>\n",
       "      <td>0.0</td>\n",
       "      <td>0.0</td>\n",
       "      <td>0.0</td>\n",
       "      <td>0.0</td>\n",
       "      <td>0.0</td>\n",
       "      <td>0.0</td>\n",
       "      <td>0.0</td>\n",
       "      <td>0.0</td>\n",
       "      <td>0.0</td>\n",
       "      <td>...</td>\n",
       "      <td>0.0</td>\n",
       "      <td>0.0</td>\n",
       "      <td>0.0</td>\n",
       "      <td>0.0</td>\n",
       "      <td>0.0</td>\n",
       "      <td>0.0</td>\n",
       "      <td>0.0</td>\n",
       "      <td>0.0</td>\n",
       "      <td>0.0</td>\n",
       "      <td>0.0</td>\n",
       "    </tr>\n",
       "    <tr>\n",
       "      <th>7808</th>\n",
       "      <td>0.0</td>\n",
       "      <td>0.0</td>\n",
       "      <td>0.0</td>\n",
       "      <td>0.0</td>\n",
       "      <td>0.0</td>\n",
       "      <td>0.0</td>\n",
       "      <td>0.0</td>\n",
       "      <td>0.0</td>\n",
       "      <td>0.0</td>\n",
       "      <td>0.0</td>\n",
       "      <td>...</td>\n",
       "      <td>0.0</td>\n",
       "      <td>0.0</td>\n",
       "      <td>0.0</td>\n",
       "      <td>0.0</td>\n",
       "      <td>0.0</td>\n",
       "      <td>0.0</td>\n",
       "      <td>0.0</td>\n",
       "      <td>0.0</td>\n",
       "      <td>0.0</td>\n",
       "      <td>0.0</td>\n",
       "    </tr>\n",
       "    <tr>\n",
       "      <th>7809</th>\n",
       "      <td>0.0</td>\n",
       "      <td>0.0</td>\n",
       "      <td>0.0</td>\n",
       "      <td>0.0</td>\n",
       "      <td>0.0</td>\n",
       "      <td>0.0</td>\n",
       "      <td>0.0</td>\n",
       "      <td>0.0</td>\n",
       "      <td>0.0</td>\n",
       "      <td>0.0</td>\n",
       "      <td>...</td>\n",
       "      <td>0.0</td>\n",
       "      <td>0.0</td>\n",
       "      <td>0.0</td>\n",
       "      <td>0.0</td>\n",
       "      <td>0.0</td>\n",
       "      <td>0.0</td>\n",
       "      <td>0.0</td>\n",
       "      <td>0.0</td>\n",
       "      <td>0.0</td>\n",
       "      <td>1.0</td>\n",
       "    </tr>\n",
       "  </tbody>\n",
       "</table>\n",
       "<p>5 rows × 1168 columns</p>\n",
       "</div>"
      ],
      "text/plain": [
       "      after_c1  air_c1  airs_c1  alder_c1  ale_c1  all_c1  alley_c1  altar_c1  \\\n",
       "7805       0.0     0.0      0.0       0.0     0.0     0.0       0.0       0.0   \n",
       "7806       0.0     0.0      0.0       0.0     0.0     0.0       0.0       0.0   \n",
       "7807       0.0     0.0      0.0       0.0     0.0     0.0       0.0       0.0   \n",
       "7808       0.0     0.0      0.0       0.0     0.0     0.0       0.0       0.0   \n",
       "7809       0.0     0.0      0.0       0.0     0.0     0.0       0.0       0.0   \n",
       "\n",
       "      anchor_c1  ant_c1  ...  working_c1  works_c1  worm_c1  wrist_c1  \\\n",
       "7805        0.0     0.0  ...         0.0       0.0      0.0       0.0   \n",
       "7806        0.0     0.0  ...         0.0       0.0      0.0       0.0   \n",
       "7807        0.0     0.0  ...         0.0       0.0      0.0       0.0   \n",
       "7808        0.0     0.0  ...         0.0       0.0      0.0       0.0   \n",
       "7809        0.0     0.0  ...         0.0       0.0      0.0       0.0   \n",
       "\n",
       "      wrong_c1  yachts_c1  yard_c1  yards_c1  year_c1  zig_c1  \n",
       "7805       0.0        0.0      0.0       0.0      0.0     0.0  \n",
       "7806       0.0        0.0      0.0       0.0      0.0     0.0  \n",
       "7807       0.0        0.0      0.0       0.0      0.0     0.0  \n",
       "7808       0.0        0.0      0.0       0.0      0.0     0.0  \n",
       "7809       0.0        0.0      0.0       0.0      0.0     1.0  \n",
       "\n",
       "[5 rows x 1168 columns]"
      ]
     },
     "execution_count": 26,
     "metadata": {},
     "output_type": "execute_result"
    }
   ],
   "source": [
    "df_oh_1.tail()"
   ]
  },
  {
   "cell_type": "code",
   "execution_count": 27,
   "metadata": {},
   "outputs": [
    {
     "data": {
      "text/plain": [
       "((7810, 4), (7810, 1168), (7810, 1170))"
      ]
     },
     "execution_count": 27,
     "metadata": {},
     "output_type": "execute_result"
    }
   ],
   "source": [
    "df.shape, df_oh_1.shape, df_oh_2.shape"
   ]
  },
  {
   "cell_type": "code",
   "execution_count": 28,
   "metadata": {},
   "outputs": [],
   "source": [
    "df_oh_1 = df_oh_1.loc[:,~df_oh_1.columns.duplicated()]\n",
    "df_oh_2 = df_oh_2.loc[:,~df_oh_2.columns.duplicated()]"
   ]
  },
  {
   "cell_type": "code",
   "execution_count": 29,
   "metadata": {},
   "outputs": [
    {
     "data": {
      "text/html": [
       "<div>\n",
       "<style scoped>\n",
       "    .dataframe tbody tr th:only-of-type {\n",
       "        vertical-align: middle;\n",
       "    }\n",
       "\n",
       "    .dataframe tbody tr th {\n",
       "        vertical-align: top;\n",
       "    }\n",
       "\n",
       "    .dataframe thead th {\n",
       "        text-align: right;\n",
       "    }\n",
       "</style>\n",
       "<table border=\"1\" class=\"dataframe\">\n",
       "  <thead>\n",
       "    <tr style=\"text-align: right;\">\n",
       "      <th></th>\n",
       "      <th>index</th>\n",
       "      <th>c1</th>\n",
       "      <th>c2</th>\n",
       "      <th>isCommonstim</th>\n",
       "      <th>is_real_stim</th>\n",
       "      <th>after_c1</th>\n",
       "      <th>air_c1</th>\n",
       "      <th>airs_c1</th>\n",
       "      <th>alder_c1</th>\n",
       "      <th>ale_c1</th>\n",
       "      <th>...</th>\n",
       "      <th>wreck_c2</th>\n",
       "      <th>wright_c2</th>\n",
       "      <th>wrights_c2</th>\n",
       "      <th>writer_c2</th>\n",
       "      <th>writers_c2</th>\n",
       "      <th>writing_c2</th>\n",
       "      <th>wurst_c2</th>\n",
       "      <th>yard_c2</th>\n",
       "      <th>yards_c2</th>\n",
       "      <th>zag_c2</th>\n",
       "    </tr>\n",
       "  </thead>\n",
       "  <tbody>\n",
       "    <tr>\n",
       "      <th>0</th>\n",
       "      <td>0</td>\n",
       "      <td>after</td>\n",
       "      <td>tack</td>\n",
       "      <td>0</td>\n",
       "      <td>0</td>\n",
       "      <td>1.0</td>\n",
       "      <td>0.0</td>\n",
       "      <td>0.0</td>\n",
       "      <td>0.0</td>\n",
       "      <td>0.0</td>\n",
       "      <td>...</td>\n",
       "      <td>0.0</td>\n",
       "      <td>0.0</td>\n",
       "      <td>0.0</td>\n",
       "      <td>0.0</td>\n",
       "      <td>0.0</td>\n",
       "      <td>0.0</td>\n",
       "      <td>0.0</td>\n",
       "      <td>0.0</td>\n",
       "      <td>0.0</td>\n",
       "      <td>0.0</td>\n",
       "    </tr>\n",
       "    <tr>\n",
       "      <th>1</th>\n",
       "      <td>1</td>\n",
       "      <td>after</td>\n",
       "      <td>wear</td>\n",
       "      <td>0</td>\n",
       "      <td>0</td>\n",
       "      <td>1.0</td>\n",
       "      <td>0.0</td>\n",
       "      <td>0.0</td>\n",
       "      <td>0.0</td>\n",
       "      <td>0.0</td>\n",
       "      <td>...</td>\n",
       "      <td>0.0</td>\n",
       "      <td>0.0</td>\n",
       "      <td>0.0</td>\n",
       "      <td>0.0</td>\n",
       "      <td>0.0</td>\n",
       "      <td>0.0</td>\n",
       "      <td>0.0</td>\n",
       "      <td>0.0</td>\n",
       "      <td>0.0</td>\n",
       "      <td>0.0</td>\n",
       "    </tr>\n",
       "    <tr>\n",
       "      <th>2</th>\n",
       "      <td>2</td>\n",
       "      <td>air</td>\n",
       "      <td>comer</td>\n",
       "      <td>0</td>\n",
       "      <td>0</td>\n",
       "      <td>0.0</td>\n",
       "      <td>1.0</td>\n",
       "      <td>0.0</td>\n",
       "      <td>0.0</td>\n",
       "      <td>0.0</td>\n",
       "      <td>...</td>\n",
       "      <td>0.0</td>\n",
       "      <td>0.0</td>\n",
       "      <td>0.0</td>\n",
       "      <td>0.0</td>\n",
       "      <td>0.0</td>\n",
       "      <td>0.0</td>\n",
       "      <td>0.0</td>\n",
       "      <td>0.0</td>\n",
       "      <td>0.0</td>\n",
       "      <td>0.0</td>\n",
       "    </tr>\n",
       "    <tr>\n",
       "      <th>3</th>\n",
       "      <td>3</td>\n",
       "      <td>air</td>\n",
       "      <td>pond</td>\n",
       "      <td>0</td>\n",
       "      <td>0</td>\n",
       "      <td>0.0</td>\n",
       "      <td>1.0</td>\n",
       "      <td>0.0</td>\n",
       "      <td>0.0</td>\n",
       "      <td>0.0</td>\n",
       "      <td>...</td>\n",
       "      <td>0.0</td>\n",
       "      <td>0.0</td>\n",
       "      <td>0.0</td>\n",
       "      <td>0.0</td>\n",
       "      <td>0.0</td>\n",
       "      <td>0.0</td>\n",
       "      <td>0.0</td>\n",
       "      <td>0.0</td>\n",
       "      <td>0.0</td>\n",
       "      <td>0.0</td>\n",
       "    </tr>\n",
       "    <tr>\n",
       "      <th>4</th>\n",
       "      <td>4</td>\n",
       "      <td>airs</td>\n",
       "      <td>helves</td>\n",
       "      <td>0</td>\n",
       "      <td>0</td>\n",
       "      <td>0.0</td>\n",
       "      <td>0.0</td>\n",
       "      <td>1.0</td>\n",
       "      <td>0.0</td>\n",
       "      <td>0.0</td>\n",
       "      <td>...</td>\n",
       "      <td>0.0</td>\n",
       "      <td>0.0</td>\n",
       "      <td>0.0</td>\n",
       "      <td>0.0</td>\n",
       "      <td>0.0</td>\n",
       "      <td>0.0</td>\n",
       "      <td>0.0</td>\n",
       "      <td>0.0</td>\n",
       "      <td>0.0</td>\n",
       "      <td>0.0</td>\n",
       "    </tr>\n",
       "  </tbody>\n",
       "</table>\n",
       "<p>5 rows × 2343 columns</p>\n",
       "</div>"
      ],
      "text/plain": [
       "   index     c1      c2  isCommonstim  is_real_stim  after_c1  air_c1  \\\n",
       "0      0  after    tack             0             0       1.0     0.0   \n",
       "1      1  after    wear             0             0       1.0     0.0   \n",
       "2      2    air   comer             0             0       0.0     1.0   \n",
       "3      3    air    pond             0             0       0.0     1.0   \n",
       "4      4   airs  helves             0             0       0.0     0.0   \n",
       "\n",
       "   airs_c1  alder_c1  ale_c1  ...  wreck_c2  wright_c2  wrights_c2  writer_c2  \\\n",
       "0      0.0       0.0     0.0  ...       0.0        0.0         0.0        0.0   \n",
       "1      0.0       0.0     0.0  ...       0.0        0.0         0.0        0.0   \n",
       "2      0.0       0.0     0.0  ...       0.0        0.0         0.0        0.0   \n",
       "3      0.0       0.0     0.0  ...       0.0        0.0         0.0        0.0   \n",
       "4      1.0       0.0     0.0  ...       0.0        0.0         0.0        0.0   \n",
       "\n",
       "   writers_c2  writing_c2  wurst_c2  yard_c2  yards_c2  zag_c2  \n",
       "0         0.0         0.0       0.0      0.0       0.0     0.0  \n",
       "1         0.0         0.0       0.0      0.0       0.0     0.0  \n",
       "2         0.0         0.0       0.0      0.0       0.0     0.0  \n",
       "3         0.0         0.0       0.0      0.0       0.0     0.0  \n",
       "4         0.0         0.0       0.0      0.0       0.0     0.0  \n",
       "\n",
       "[5 rows x 2343 columns]"
      ]
     },
     "execution_count": 29,
     "metadata": {},
     "output_type": "execute_result"
    }
   ],
   "source": [
    "final_df = df.reset_index().join(df_oh_1)\n",
    "final_df = final_df.join(df_oh_2)\n",
    "final_df.head()"
   ]
  },
  {
   "cell_type": "code",
   "execution_count": 30,
   "metadata": {},
   "outputs": [
    {
     "data": {
      "text/plain": [
       "(7810, 2343)"
      ]
     },
     "execution_count": 30,
     "metadata": {},
     "output_type": "execute_result"
    }
   ],
   "source": [
    "final_df.shape"
   ]
  },
  {
   "cell_type": "code",
   "execution_count": 31,
   "metadata": {},
   "outputs": [
    {
     "data": {
      "text/html": [
       "<div>\n",
       "<style scoped>\n",
       "    .dataframe tbody tr th:only-of-type {\n",
       "        vertical-align: middle;\n",
       "    }\n",
       "\n",
       "    .dataframe tbody tr th {\n",
       "        vertical-align: top;\n",
       "    }\n",
       "\n",
       "    .dataframe thead th {\n",
       "        text-align: right;\n",
       "    }\n",
       "</style>\n",
       "<table border=\"1\" class=\"dataframe\">\n",
       "  <thead>\n",
       "    <tr style=\"text-align: right;\">\n",
       "      <th></th>\n",
       "      <th>index</th>\n",
       "      <th>isCommonstim</th>\n",
       "      <th>is_real_stim</th>\n",
       "      <th>after_c1</th>\n",
       "      <th>air_c1</th>\n",
       "      <th>airs_c1</th>\n",
       "      <th>alder_c1</th>\n",
       "      <th>ale_c1</th>\n",
       "      <th>all_c1</th>\n",
       "      <th>alley_c1</th>\n",
       "      <th>...</th>\n",
       "      <th>wreck_c2</th>\n",
       "      <th>wright_c2</th>\n",
       "      <th>wrights_c2</th>\n",
       "      <th>writer_c2</th>\n",
       "      <th>writers_c2</th>\n",
       "      <th>writing_c2</th>\n",
       "      <th>wurst_c2</th>\n",
       "      <th>yard_c2</th>\n",
       "      <th>yards_c2</th>\n",
       "      <th>zag_c2</th>\n",
       "    </tr>\n",
       "  </thead>\n",
       "  <tbody>\n",
       "    <tr>\n",
       "      <th>0</th>\n",
       "      <td>0</td>\n",
       "      <td>0</td>\n",
       "      <td>0</td>\n",
       "      <td>1.0</td>\n",
       "      <td>0.0</td>\n",
       "      <td>0.0</td>\n",
       "      <td>0.0</td>\n",
       "      <td>0.0</td>\n",
       "      <td>0.0</td>\n",
       "      <td>0.0</td>\n",
       "      <td>...</td>\n",
       "      <td>0.0</td>\n",
       "      <td>0.0</td>\n",
       "      <td>0.0</td>\n",
       "      <td>0.0</td>\n",
       "      <td>0.0</td>\n",
       "      <td>0.0</td>\n",
       "      <td>0.0</td>\n",
       "      <td>0.0</td>\n",
       "      <td>0.0</td>\n",
       "      <td>0.0</td>\n",
       "    </tr>\n",
       "    <tr>\n",
       "      <th>1</th>\n",
       "      <td>1</td>\n",
       "      <td>0</td>\n",
       "      <td>0</td>\n",
       "      <td>1.0</td>\n",
       "      <td>0.0</td>\n",
       "      <td>0.0</td>\n",
       "      <td>0.0</td>\n",
       "      <td>0.0</td>\n",
       "      <td>0.0</td>\n",
       "      <td>0.0</td>\n",
       "      <td>...</td>\n",
       "      <td>0.0</td>\n",
       "      <td>0.0</td>\n",
       "      <td>0.0</td>\n",
       "      <td>0.0</td>\n",
       "      <td>0.0</td>\n",
       "      <td>0.0</td>\n",
       "      <td>0.0</td>\n",
       "      <td>0.0</td>\n",
       "      <td>0.0</td>\n",
       "      <td>0.0</td>\n",
       "    </tr>\n",
       "    <tr>\n",
       "      <th>2</th>\n",
       "      <td>2</td>\n",
       "      <td>0</td>\n",
       "      <td>0</td>\n",
       "      <td>0.0</td>\n",
       "      <td>1.0</td>\n",
       "      <td>0.0</td>\n",
       "      <td>0.0</td>\n",
       "      <td>0.0</td>\n",
       "      <td>0.0</td>\n",
       "      <td>0.0</td>\n",
       "      <td>...</td>\n",
       "      <td>0.0</td>\n",
       "      <td>0.0</td>\n",
       "      <td>0.0</td>\n",
       "      <td>0.0</td>\n",
       "      <td>0.0</td>\n",
       "      <td>0.0</td>\n",
       "      <td>0.0</td>\n",
       "      <td>0.0</td>\n",
       "      <td>0.0</td>\n",
       "      <td>0.0</td>\n",
       "    </tr>\n",
       "    <tr>\n",
       "      <th>3</th>\n",
       "      <td>3</td>\n",
       "      <td>0</td>\n",
       "      <td>0</td>\n",
       "      <td>0.0</td>\n",
       "      <td>1.0</td>\n",
       "      <td>0.0</td>\n",
       "      <td>0.0</td>\n",
       "      <td>0.0</td>\n",
       "      <td>0.0</td>\n",
       "      <td>0.0</td>\n",
       "      <td>...</td>\n",
       "      <td>0.0</td>\n",
       "      <td>0.0</td>\n",
       "      <td>0.0</td>\n",
       "      <td>0.0</td>\n",
       "      <td>0.0</td>\n",
       "      <td>0.0</td>\n",
       "      <td>0.0</td>\n",
       "      <td>0.0</td>\n",
       "      <td>0.0</td>\n",
       "      <td>0.0</td>\n",
       "    </tr>\n",
       "    <tr>\n",
       "      <th>4</th>\n",
       "      <td>4</td>\n",
       "      <td>0</td>\n",
       "      <td>0</td>\n",
       "      <td>0.0</td>\n",
       "      <td>0.0</td>\n",
       "      <td>1.0</td>\n",
       "      <td>0.0</td>\n",
       "      <td>0.0</td>\n",
       "      <td>0.0</td>\n",
       "      <td>0.0</td>\n",
       "      <td>...</td>\n",
       "      <td>0.0</td>\n",
       "      <td>0.0</td>\n",
       "      <td>0.0</td>\n",
       "      <td>0.0</td>\n",
       "      <td>0.0</td>\n",
       "      <td>0.0</td>\n",
       "      <td>0.0</td>\n",
       "      <td>0.0</td>\n",
       "      <td>0.0</td>\n",
       "      <td>0.0</td>\n",
       "    </tr>\n",
       "  </tbody>\n",
       "</table>\n",
       "<p>5 rows × 2341 columns</p>\n",
       "</div>"
      ],
      "text/plain": [
       "   index  isCommonstim  is_real_stim  after_c1  air_c1  airs_c1  alder_c1  \\\n",
       "0      0             0             0       1.0     0.0      0.0       0.0   \n",
       "1      1             0             0       1.0     0.0      0.0       0.0   \n",
       "2      2             0             0       0.0     1.0      0.0       0.0   \n",
       "3      3             0             0       0.0     1.0      0.0       0.0   \n",
       "4      4             0             0       0.0     0.0      1.0       0.0   \n",
       "\n",
       "   ale_c1  all_c1  alley_c1  ...  wreck_c2  wright_c2  wrights_c2  writer_c2  \\\n",
       "0     0.0     0.0       0.0  ...       0.0        0.0         0.0        0.0   \n",
       "1     0.0     0.0       0.0  ...       0.0        0.0         0.0        0.0   \n",
       "2     0.0     0.0       0.0  ...       0.0        0.0         0.0        0.0   \n",
       "3     0.0     0.0       0.0  ...       0.0        0.0         0.0        0.0   \n",
       "4     0.0     0.0       0.0  ...       0.0        0.0         0.0        0.0   \n",
       "\n",
       "   writers_c2  writing_c2  wurst_c2  yard_c2  yards_c2  zag_c2  \n",
       "0         0.0         0.0       0.0      0.0       0.0     0.0  \n",
       "1         0.0         0.0       0.0      0.0       0.0     0.0  \n",
       "2         0.0         0.0       0.0      0.0       0.0     0.0  \n",
       "3         0.0         0.0       0.0      0.0       0.0     0.0  \n",
       "4         0.0         0.0       0.0      0.0       0.0     0.0  \n",
       "\n",
       "[5 rows x 2341 columns]"
      ]
     },
     "execution_count": 31,
     "metadata": {},
     "output_type": "execute_result"
    }
   ],
   "source": [
    "final_df = final_df.drop(['c1', 'c2'], axis=1)\n",
    "final_df.head()"
   ]
  },
  {
   "cell_type": "code",
   "execution_count": 32,
   "metadata": {},
   "outputs": [
    {
     "data": {
      "text/html": [
       "<div>\n",
       "<style scoped>\n",
       "    .dataframe tbody tr th:only-of-type {\n",
       "        vertical-align: middle;\n",
       "    }\n",
       "\n",
       "    .dataframe tbody tr th {\n",
       "        vertical-align: top;\n",
       "    }\n",
       "\n",
       "    .dataframe thead th {\n",
       "        text-align: right;\n",
       "    }\n",
       "</style>\n",
       "<table border=\"1\" class=\"dataframe\">\n",
       "  <thead>\n",
       "    <tr style=\"text-align: right;\">\n",
       "      <th></th>\n",
       "      <th>index</th>\n",
       "      <th>isCommonstim</th>\n",
       "      <th>is_real_stim</th>\n",
       "      <th>after_c1</th>\n",
       "      <th>air_c1</th>\n",
       "      <th>airs_c1</th>\n",
       "      <th>alder_c1</th>\n",
       "      <th>ale_c1</th>\n",
       "      <th>all_c1</th>\n",
       "      <th>alley_c1</th>\n",
       "      <th>...</th>\n",
       "      <th>wreck_c2</th>\n",
       "      <th>wright_c2</th>\n",
       "      <th>wrights_c2</th>\n",
       "      <th>writer_c2</th>\n",
       "      <th>writers_c2</th>\n",
       "      <th>writing_c2</th>\n",
       "      <th>wurst_c2</th>\n",
       "      <th>yard_c2</th>\n",
       "      <th>yards_c2</th>\n",
       "      <th>zag_c2</th>\n",
       "    </tr>\n",
       "  </thead>\n",
       "  <tbody>\n",
       "    <tr>\n",
       "      <th>7805</th>\n",
       "      <td>8943</td>\n",
       "      <td>0</td>\n",
       "      <td>1</td>\n",
       "      <td>0.0</td>\n",
       "      <td>0.0</td>\n",
       "      <td>0.0</td>\n",
       "      <td>0.0</td>\n",
       "      <td>0.0</td>\n",
       "      <td>0.0</td>\n",
       "      <td>0.0</td>\n",
       "      <td>...</td>\n",
       "      <td>0.0</td>\n",
       "      <td>0.0</td>\n",
       "      <td>0.0</td>\n",
       "      <td>0.0</td>\n",
       "      <td>0.0</td>\n",
       "      <td>0.0</td>\n",
       "      <td>0.0</td>\n",
       "      <td>0.0</td>\n",
       "      <td>1.0</td>\n",
       "      <td>0.0</td>\n",
       "    </tr>\n",
       "    <tr>\n",
       "      <th>7806</th>\n",
       "      <td>8944</td>\n",
       "      <td>0</td>\n",
       "      <td>1</td>\n",
       "      <td>0.0</td>\n",
       "      <td>0.0</td>\n",
       "      <td>0.0</td>\n",
       "      <td>0.0</td>\n",
       "      <td>0.0</td>\n",
       "      <td>0.0</td>\n",
       "      <td>0.0</td>\n",
       "      <td>...</td>\n",
       "      <td>0.0</td>\n",
       "      <td>0.0</td>\n",
       "      <td>0.0</td>\n",
       "      <td>0.0</td>\n",
       "      <td>0.0</td>\n",
       "      <td>0.0</td>\n",
       "      <td>0.0</td>\n",
       "      <td>0.0</td>\n",
       "      <td>1.0</td>\n",
       "      <td>0.0</td>\n",
       "    </tr>\n",
       "    <tr>\n",
       "      <th>7807</th>\n",
       "      <td>8947</td>\n",
       "      <td>0</td>\n",
       "      <td>1</td>\n",
       "      <td>0.0</td>\n",
       "      <td>0.0</td>\n",
       "      <td>0.0</td>\n",
       "      <td>0.0</td>\n",
       "      <td>0.0</td>\n",
       "      <td>0.0</td>\n",
       "      <td>0.0</td>\n",
       "      <td>...</td>\n",
       "      <td>0.0</td>\n",
       "      <td>0.0</td>\n",
       "      <td>0.0</td>\n",
       "      <td>0.0</td>\n",
       "      <td>0.0</td>\n",
       "      <td>0.0</td>\n",
       "      <td>0.0</td>\n",
       "      <td>0.0</td>\n",
       "      <td>1.0</td>\n",
       "      <td>0.0</td>\n",
       "    </tr>\n",
       "    <tr>\n",
       "      <th>7808</th>\n",
       "      <td>8952</td>\n",
       "      <td>0</td>\n",
       "      <td>1</td>\n",
       "      <td>0.0</td>\n",
       "      <td>0.0</td>\n",
       "      <td>0.0</td>\n",
       "      <td>0.0</td>\n",
       "      <td>0.0</td>\n",
       "      <td>0.0</td>\n",
       "      <td>0.0</td>\n",
       "      <td>...</td>\n",
       "      <td>0.0</td>\n",
       "      <td>0.0</td>\n",
       "      <td>0.0</td>\n",
       "      <td>0.0</td>\n",
       "      <td>0.0</td>\n",
       "      <td>0.0</td>\n",
       "      <td>0.0</td>\n",
       "      <td>0.0</td>\n",
       "      <td>1.0</td>\n",
       "      <td>0.0</td>\n",
       "    </tr>\n",
       "    <tr>\n",
       "      <th>7809</th>\n",
       "      <td>8955</td>\n",
       "      <td>1</td>\n",
       "      <td>1</td>\n",
       "      <td>0.0</td>\n",
       "      <td>0.0</td>\n",
       "      <td>0.0</td>\n",
       "      <td>0.0</td>\n",
       "      <td>0.0</td>\n",
       "      <td>0.0</td>\n",
       "      <td>0.0</td>\n",
       "      <td>...</td>\n",
       "      <td>0.0</td>\n",
       "      <td>0.0</td>\n",
       "      <td>0.0</td>\n",
       "      <td>0.0</td>\n",
       "      <td>0.0</td>\n",
       "      <td>0.0</td>\n",
       "      <td>0.0</td>\n",
       "      <td>0.0</td>\n",
       "      <td>0.0</td>\n",
       "      <td>1.0</td>\n",
       "    </tr>\n",
       "  </tbody>\n",
       "</table>\n",
       "<p>5 rows × 2341 columns</p>\n",
       "</div>"
      ],
      "text/plain": [
       "      index  isCommonstim  is_real_stim  after_c1  air_c1  airs_c1  alder_c1  \\\n",
       "7805   8943             0             1       0.0     0.0      0.0       0.0   \n",
       "7806   8944             0             1       0.0     0.0      0.0       0.0   \n",
       "7807   8947             0             1       0.0     0.0      0.0       0.0   \n",
       "7808   8952             0             1       0.0     0.0      0.0       0.0   \n",
       "7809   8955             1             1       0.0     0.0      0.0       0.0   \n",
       "\n",
       "      ale_c1  all_c1  alley_c1  ...  wreck_c2  wright_c2  wrights_c2  \\\n",
       "7805     0.0     0.0       0.0  ...       0.0        0.0         0.0   \n",
       "7806     0.0     0.0       0.0  ...       0.0        0.0         0.0   \n",
       "7807     0.0     0.0       0.0  ...       0.0        0.0         0.0   \n",
       "7808     0.0     0.0       0.0  ...       0.0        0.0         0.0   \n",
       "7809     0.0     0.0       0.0  ...       0.0        0.0         0.0   \n",
       "\n",
       "      writer_c2  writers_c2  writing_c2  wurst_c2  yard_c2  yards_c2  zag_c2  \n",
       "7805        0.0         0.0         0.0       0.0      0.0       1.0     0.0  \n",
       "7806        0.0         0.0         0.0       0.0      0.0       1.0     0.0  \n",
       "7807        0.0         0.0         0.0       0.0      0.0       1.0     0.0  \n",
       "7808        0.0         0.0         0.0       0.0      0.0       1.0     0.0  \n",
       "7809        0.0         0.0         0.0       0.0      0.0       0.0     1.0  \n",
       "\n",
       "[5 rows x 2341 columns]"
      ]
     },
     "execution_count": 32,
     "metadata": {},
     "output_type": "execute_result"
    }
   ],
   "source": [
    "final_df.tail()"
   ]
  },
  {
   "cell_type": "code",
   "execution_count": null,
   "metadata": {},
   "outputs": [],
   "source": []
  },
  {
   "cell_type": "markdown",
   "metadata": {},
   "source": [
    "**Just a note: we are trying to predict \"is_real_stim\" in our model.**"
   ]
  },
  {
   "cell_type": "code",
   "execution_count": 33,
   "metadata": {},
   "outputs": [],
   "source": [
    "train_df, validate_df, test_df = np.split(final_df.sample(frac=1), [int(.6*len(df)), int(.8*len(df))]) \n",
    "# df.sample shuffles the dataframe to randomize the sample\n",
    "# we chose to split into 60% - training set, 20% - validation set, 20% - test set"
   ]
  },
  {
   "cell_type": "code",
   "execution_count": 34,
   "metadata": {},
   "outputs": [
    {
     "data": {
      "text/plain": [
       "0    2817\n",
       "1    1869\n",
       "Name: is_real_stim, dtype: int64"
      ]
     },
     "execution_count": 34,
     "metadata": {},
     "output_type": "execute_result"
    }
   ],
   "source": [
    "train_df['is_real_stim'].value_counts()"
   ]
  },
  {
   "cell_type": "code",
   "execution_count": 35,
   "metadata": {},
   "outputs": [
    {
     "data": {
      "text/plain": [
       "0    921\n",
       "1    641\n",
       "Name: is_real_stim, dtype: int64"
      ]
     },
     "execution_count": 35,
     "metadata": {},
     "output_type": "execute_result"
    }
   ],
   "source": [
    "validate_df['is_real_stim'].value_counts()"
   ]
  },
  {
   "cell_type": "code",
   "execution_count": 36,
   "metadata": {},
   "outputs": [
    {
     "data": {
      "text/plain": [
       "0    923\n",
       "1    639\n",
       "Name: is_real_stim, dtype: int64"
      ]
     },
     "execution_count": 36,
     "metadata": {},
     "output_type": "execute_result"
    }
   ],
   "source": [
    "test_df['is_real_stim'].value_counts()"
   ]
  },
  {
   "cell_type": "code",
   "execution_count": 37,
   "metadata": {},
   "outputs": [],
   "source": [
    "X_train = train_df.drop(columns = ['is_real_stim'])\n",
    "X_validation = validate_df.drop(columns = ['is_real_stim'])\n",
    "X_test = test_df.drop(columns = ['is_real_stim'])\n",
    "\n",
    "y_train = train_df['is_real_stim']\n",
    "y_validation = validate_df['is_real_stim']\n",
    "y_test = test_df['is_real_stim']\n"
   ]
  },
  {
   "cell_type": "markdown",
   "metadata": {},
   "source": [
    "****Create Classifier Models****"
   ]
  },
  {
   "cell_type": "markdown",
   "metadata": {},
   "source": [
    "**Logistic Regression Model**"
   ]
  },
  {
   "cell_type": "code",
   "execution_count": 38,
   "metadata": {},
   "outputs": [],
   "source": [
    "from sklearn.linear_model import LogisticRegression\n",
    "from sklearn.metrics import accuracy_score"
   ]
  },
  {
   "cell_type": "code",
   "execution_count": 39,
   "metadata": {},
   "outputs": [
    {
     "name": "stderr",
     "output_type": "stream",
     "text": [
      "C:\\Users\\chat2\\Anaconda3\\lib\\site-packages\\sklearn\\linear_model\\logistic.py:432: FutureWarning: Default solver will be changed to 'lbfgs' in 0.22. Specify a solver to silence this warning.\n",
      "  FutureWarning)\n"
     ]
    },
    {
     "name": "stdout",
     "output_type": "stream",
     "text": [
      "Accuracy on training: \n",
      "0.953478446436193\n",
      "Accuracy on training:  0.953478446436193\n"
     ]
    }
   ],
   "source": [
    "lr_model = LogisticRegression()\n",
    "lr_model.fit(X_train, y_train)\n",
    "\n",
    "print('Accuracy on training: ')\n",
    "y_pred_train=lr_model.predict(X_train)\n",
    "print(accuracy_score(y_train,y_pred_train))\n",
    "\n",
    "training_accuracy = lr_model.score(X_train, y_train)\n",
    "print('Accuracy on training: ', training_accuracy)"
   ]
  },
  {
   "cell_type": "code",
   "execution_count": 40,
   "metadata": {},
   "outputs": [
    {
     "name": "stdout",
     "output_type": "stream",
     "text": [
      "Accuracy on validation:  0.93854033290653\n"
     ]
    }
   ],
   "source": [
    "validation_accuracy = lr_model.score(X_validation, y_validation)\n",
    "print('Accuracy on validation: ', validation_accuracy)"
   ]
  },
  {
   "cell_type": "code",
   "execution_count": 41,
   "metadata": {},
   "outputs": [
    {
     "name": "stdout",
     "output_type": "stream",
     "text": [
      "Accuracy on test:  0.9436619718309859\n"
     ]
    }
   ],
   "source": [
    "test_accuracy = lr_model.score(X_test, y_test)\n",
    "print('Accuracy on test: ', test_accuracy)"
   ]
  },
  {
   "cell_type": "code",
   "execution_count": null,
   "metadata": {},
   "outputs": [],
   "source": []
  },
  {
   "cell_type": "markdown",
   "metadata": {},
   "source": [
    "**MLP Classifier Model**"
   ]
  },
  {
   "cell_type": "code",
   "execution_count": 42,
   "metadata": {},
   "outputs": [],
   "source": [
    "from sklearn.neural_network import MLPClassifier\n"
   ]
  },
  {
   "cell_type": "code",
   "execution_count": 43,
   "metadata": {},
   "outputs": [
    {
     "name": "stdout",
     "output_type": "stream",
     "text": [
      "Accuracy on training:  0.9462227912932138\n"
     ]
    }
   ],
   "source": [
    "mlp_model = MLPClassifier(hidden_layer_sizes=(10), random_state=42, activation='logistic', solver='lbfgs')\n",
    "mlp_model.fit(X_train,y_train)\n",
    "training_accuracy = mlp_model.score(X_train, y_train)\n",
    "print('Accuracy on training: ', training_accuracy)\n",
    "\n",
    "# print('Accuracy on training: ')\n",
    "# y_pred_train=clf.predict(X_train)\n",
    "# print(accuracy_score(Y_train,y_pred_train))"
   ]
  },
  {
   "cell_type": "code",
   "execution_count": 44,
   "metadata": {},
   "outputs": [
    {
     "name": "stdout",
     "output_type": "stream",
     "text": [
      "Accuracy on validation:  0.9353393085787451\n"
     ]
    }
   ],
   "source": [
    "validation_accuracy = mlp_model.score(X_validation, y_validation)\n",
    "print('Accuracy on validation: ', validation_accuracy)"
   ]
  },
  {
   "cell_type": "code",
   "execution_count": 45,
   "metadata": {},
   "outputs": [
    {
     "name": "stdout",
     "output_type": "stream",
     "text": [
      "Accuracy on test:  0.9436619718309859\n"
     ]
    }
   ],
   "source": [
    "test_accuracy = mlp_model.score(X_test, y_test)\n",
    "print('Accuracy on test: ', test_accuracy)"
   ]
  },
  {
   "cell_type": "code",
   "execution_count": null,
   "metadata": {},
   "outputs": [],
   "source": []
  },
  {
   "cell_type": "markdown",
   "metadata": {},
   "source": [
    "**Decision Tree Classifier**"
   ]
  },
  {
   "cell_type": "code",
   "execution_count": 46,
   "metadata": {},
   "outputs": [],
   "source": [
    "from sklearn.tree import DecisionTreeClassifier\n"
   ]
  },
  {
   "cell_type": "code",
   "execution_count": 47,
   "metadata": {},
   "outputs": [
    {
     "name": "stdout",
     "output_type": "stream",
     "text": [
      "Accuracy on training:  1.0\n"
     ]
    }
   ],
   "source": [
    "dt_model = DecisionTreeClassifier()\n",
    "dt_model.fit(X_train, y_train)\n",
    "training_accuracy = dt_model.score(X_train, y_train)\n",
    "print('Accuracy on training: ', training_accuracy)\n",
    "\n",
    "# accuracy_score(clf.predict(X_train), y_train)"
   ]
  },
  {
   "cell_type": "code",
   "execution_count": 48,
   "metadata": {},
   "outputs": [
    {
     "name": "stdout",
     "output_type": "stream",
     "text": [
      "Accuracy on validation:  0.9340588988476313\n"
     ]
    }
   ],
   "source": [
    "validation_accuracy = dt_model.score(X_validation, y_validation)\n",
    "print('Accuracy on validation: ', validation_accuracy)"
   ]
  },
  {
   "cell_type": "code",
   "execution_count": 49,
   "metadata": {},
   "outputs": [
    {
     "name": "stdout",
     "output_type": "stream",
     "text": [
      "Accuracy on test:  0.9314980793854033\n"
     ]
    }
   ],
   "source": [
    "test_accuracy = dt_model.score(X_test, y_test)\n",
    "print('Accuracy on test: ', test_accuracy)"
   ]
  },
  {
   "cell_type": "code",
   "execution_count": null,
   "metadata": {},
   "outputs": [],
   "source": []
  },
  {
   "cell_type": "code",
   "execution_count": null,
   "metadata": {},
   "outputs": [],
   "source": []
  }
 ],
 "metadata": {
  "kernelspec": {
   "display_name": "Python 3",
   "language": "python",
   "name": "python3"
  },
  "language_info": {
   "codemirror_mode": {
    "name": "ipython",
    "version": 3
   },
   "file_extension": ".py",
   "mimetype": "text/x-python",
   "name": "python",
   "nbconvert_exporter": "python",
   "pygments_lexer": "ipython3",
   "version": "3.7.3"
  }
 },
 "nbformat": 4,
 "nbformat_minor": 2
}
